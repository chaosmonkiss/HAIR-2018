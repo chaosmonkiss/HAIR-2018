{
 "cells": [
  {
   "cell_type": "code",
   "execution_count": null,
   "metadata": {},
   "outputs": [],
   "source": [
    "from selenium import webdriver\n",
    "from bs4 import BeautifulSoup\n",
    "import numpy as np\n",
    "import csv"
   ]
  },
  {
   "cell_type": "code",
   "execution_count": null,
   "metadata": {},
   "outputs": [],
   "source": [
    "# 1. set home\n",
    "home = '/Users/bokyung/'\n",
    "driver = webdriver.Chrome('{}workspace/chromedriver'.format(home))\n",
    "driver.implicitly_wait(3)\n",
    "driver.get('https://www.nkis.re.kr:4445/main.do') #이후 id, pw 입력"
   ]
  },
  {
   "cell_type": "code",
   "execution_count": null,
   "metadata": {},
   "outputs": [],
   "source": [
    "driver.get('https://www.nkis.re.kr:4445/subject_list.do') #주제별연구성과이동\n",
    "driver.find_element_by_xpath('//*[@id=\"pageContent\"]/section/div[1]/ul/li[14]/a').click() #과학기술이동\n",
    "#이후 연도순, 내림차순, 100개씩 조회 "
   ]
  },
  {
   "cell_type": "code",
   "execution_count": null,
   "metadata": {},
   "outputs": [],
   "source": [
    "title = []\n",
    "author = []\n",
    "affili = []\n",
    "puborg = []\n",
    "pubyear = []\n",
    "isbn = []\n",
    "repotype = []\n",
    "projtype = []\n",
    "techcateg = []\n",
    "abstract = []"
   ]
  },
  {
   "cell_type": "code",
   "execution_count": null,
   "metadata": {},
   "outputs": [],
   "source": [
    "# 2. set index range for each page (각 페이지마다 따로 크롤)\n",
    "#indexnum = np.arange(1,265) 과학기술일반(264개)\n",
    "#indexnum = np.arange(1,75) #기술개발(74개)\n",
    "#indexnum = np.arange(1,7) #기초과학(6개)\n",
    "#indexnum = np.arange(1,105) 과학기술인프라(103개-2 :3,4번 제외)\n",
    "#총 447개 리포트 \n",
    "\n",
    "try : \n",
    "    for j in indexnum:\n",
    "        driver.find_element_by_xpath('//*[@id=\"pageContent\"]/section/div[6]/table/tbody/tr[{}]/td[2]/a'.format(str(j))).click() #to report\n",
    "\n",
    "        html = driver.page_source\n",
    "        soup = BeautifulSoup(html, 'lxml')\n",
    "        select1 = soup.select('section > div > ul > li > div > span > span')\n",
    "        select2 = soup.select('section > div > dl > dd > div')\n",
    "\n",
    "        title.append(select1[0].text) #보고서명 \n",
    "        author.append(select1[2].text.strip()) #연구책임자\n",
    "        affili.append(select1[3].text) ##소속기관 \n",
    "        puborg.append(select1[6].text.strip()) #발행기관\n",
    "        pubyear.append(select1[8].text) #출판년도\n",
    "        isbn.append(select1[11].text) #ISBN\n",
    "        repotype.append(select1[12].text.strip()) #보고서유형\n",
    "        projtype.append(select1[13].text.strip()) #연구유형 \n",
    "        techcateg.append(select1[14].text.strip()[30:]) #표준분류\n",
    "        c = select2[0].text.strip()\n",
    "        c = c.replace('\\n',' ')\n",
    "        c = c.replace('\\t',' ')\n",
    "        abstract.append(c) #국문초록\n",
    "        \n",
    "        driver.back()\n",
    "except : \n",
    "    print(title[-1])"
   ]
  },
  {
   "cell_type": "code",
   "execution_count": null,
   "metadata": {},
   "outputs": [],
   "source": [
    "len(title)"
   ]
  },
  {
   "cell_type": "code",
   "execution_count": null,
   "metadata": {},
   "outputs": [],
   "source": [
    "# export to csv \n",
    "\n",
    "# 3. set filename \n",
    "with open('{}/workspace/NKIS_2007to2016_과학기술인프라.csv'.format(home), 'w') as outfile:\n",
    "    writer = csv.writer(outfile)\n",
    "    writer.writerow(['pubyear','title','author','puborg','affili','ISBN',\n",
    "                     'repotype','projtype','techcateg','abstract'])\n",
    "    rows = zip(pubyear,title,author,puborg,affili,isbn,repotype,projtype,techcateg,abstract)\n",
    "    writer.writerows(rows)   \n",
    "print('creating csv complete')"
   ]
  }
 ],
 "metadata": {
  "kernelspec": {
   "display_name": "Python 3",
   "language": "python",
   "name": "python3"
  },
  "language_info": {
   "codemirror_mode": {
    "name": "ipython",
    "version": 3
   },
   "file_extension": ".py",
   "mimetype": "text/x-python",
   "name": "python",
   "nbconvert_exporter": "python",
   "pygments_lexer": "ipython3",
   "version": "3.6.4"
  }
 },
 "nbformat": 4,
 "nbformat_minor": 2
}
