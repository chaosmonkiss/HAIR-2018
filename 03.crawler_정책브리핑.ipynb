{
 "cells": [
  {
   "cell_type": "code",
   "execution_count": 1,
   "metadata": {},
   "outputs": [],
   "source": [
    "from selenium import webdriver\n",
    "from bs4 import BeautifulSoup\n",
    "import numpy as np\n",
    "import csv"
   ]
  },
  {
   "cell_type": "code",
   "execution_count": 2,
   "metadata": {},
   "outputs": [
    {
     "name": "stdout",
     "output_type": "stream",
     "text": [
      "/Users/bokyung/workspace\r\n"
     ]
    }
   ],
   "source": [
    "!pwd"
   ]
  },
  {
   "cell_type": "code",
   "execution_count": 9,
   "metadata": {},
   "outputs": [],
   "source": [
    "# 1. set home \n",
    "home = '/Users/bokyung/'\n",
    "driver = webdriver.Chrome('{}workspace/chromedriver'.format(home))\n",
    "driver.implicitly_wait(3)\n",
    "# 2. set year range\n",
    "url = 'http://www.korea.kr/policy/mainList.do?pageIndex={}&srchRepCodeType=\\\n",
    "&repCodeType=&repCode=&startDate=2008-01-01&endDate=2008-11-17&srchWord='\n",
    "driver.get(url.format(str(1)))"
   ]
  },
  {
   "cell_type": "code",
   "execution_count": 10,
   "metadata": {},
   "outputs": [],
   "source": [
    "# 3. set pageindex range\n",
    "pnum = np.arange(1,2) #test\n",
    "#pnum = np.arange(1,6060) #y2008-2017\n",
    "#pnum = np.arange(1,5950)#y2008-2016.11.30\n",
    "#pnum = np.arange(1,1000) #전체(1) y2008-2016.11.30\n",
    "#pnum = np.arange(1000,5950) #전체(2) y2008-2016.11.30\n",
    "#pnum = np.arange(1,489) #전체(3) y2008.01.01-2008.11.17\n",
    "#pnum = np.arange(1,47) #전체(4) y2016.12.01-2016.12.17"
   ]
  },
  {
   "cell_type": "code",
   "execution_count": 17,
   "metadata": {},
   "outputs": [],
   "source": [
    "pubyear = []\n",
    "pubdate = []\n",
    "department = []\n",
    "title= []\n",
    "subtitle = []\n",
    "content = []\n",
    "\n",
    "def formatText(txt):\n",
    "    dic = {'\\n':' ','\\t':' ','\\xa0':' ','.':'. ',\n",
    "           '▶':' ','◆':' ','∙':' ','❘':' ',\n",
    "           ' | ':' ','|':' ','▲':' ','○':' ','□':' '}\n",
    "    for x,y in dic.items():\n",
    "        txt = txt.replace(x, y)\n",
    "    for i in np.arange(1,10):\n",
    "        txt = txt.replace('  ', ' ') \n",
    "    return txt\n",
    "\n",
    "def get_data():\n",
    "    \n",
    "    for n in pnum : \n",
    "        driver.get(url.format(str(n)))\n",
    "\n",
    "        for i in list(range(1,11)):\n",
    "\n",
    "            try:\n",
    "                driver.find_element_by_xpath('//*[@id=\"container\"]/div/div/div[1]/div[4]/ul/li[{}]'.format(str(i))).click()\n",
    "                html = driver.page_source\n",
    "                soup = BeautifulSoup(html, 'lxml')\n",
    "\n",
    "                try:\n",
    "                    select = soup.select('#container > div > div.article_wrap > div.article_head > div.subject > h2')\n",
    "                    title.append(select[0].text.strip()) #제목\n",
    "                except:\n",
    "                    title.append('')\n",
    "\n",
    "                try:\n",
    "                    select = soup.select('#container > div > div.article_wrap > div.article_head > div.ah_utill > div.subtit')\n",
    "                    subtitle.append(formatText(select[0].text.strip())) #부제\n",
    "                except:\n",
    "                    subtitle.append('')\n",
    "\n",
    "                try:\n",
    "                    select = soup.select('#container > div > div.article_wrap > div.article_head > div.ah_utill > div.info > span')\n",
    "                    department.append(select[0].text.strip()) # 관련부처\n",
    "                    pubdate.append(select[1].text.strip()) # 날짜\n",
    "                    pubyear.append(select[1].text.strip()[:4]) #연도\n",
    "                except:\n",
    "                    department.append('')\n",
    "                    pubdate.append('')\n",
    "                    pubyear.append('')\n",
    "\n",
    "                try:\n",
    "                    select = soup.select('#container > div > div.article_wrap > div.article_content > div.view_cont')\n",
    "                    content.append(formatText(select[0].text.strip())) #내용\n",
    "                except:\n",
    "                    content.append('')\n",
    "\n",
    "                driver.back()\n",
    "\n",
    "            except:\n",
    "                print(title[-1])\n",
    "\n",
    "def export_csv():\n",
    "    with open('{}/workspace/정책브리핑(전체).csv'.format(home), 'w') as outfile:\n",
    "        writer = csv.writer(outfile)\n",
    "        writer.writerow(['pubyear','pubdate','department','title','subtitle','content'])\n",
    "        rows = zip(pubyear, pubdate, department, title, subtitle, content)\n",
    "        writer.writerows(rows)    \n",
    "    print('creating csv complete')"
   ]
  },
  {
   "cell_type": "code",
   "execution_count": 12,
   "metadata": {},
   "outputs": [],
   "source": [
    "# start crawling\n",
    "get_data()"
   ]
  },
  {
   "cell_type": "code",
   "execution_count": 19,
   "metadata": {},
   "outputs": [
    {
     "data": {
      "text/plain": [
       "0"
      ]
     },
     "execution_count": 19,
     "metadata": {},
     "output_type": "execute_result"
    }
   ],
   "source": [
    "len(title)"
   ]
  },
  {
   "cell_type": "code",
   "execution_count": 15,
   "metadata": {},
   "outputs": [
    {
     "data": {
      "text/plain": [
       "['19일 ‘클린사이트’ 만들기 공청회',\n",
       " '국민 3명 중 1명 ‘비만환자’…10년새 5.7%p 증가',\n",
       " '철도파업 대비 특별대책본부 운영…불편 최소화',\n",
       " '내년 국가공무원 3200명 뽑는다',\n",
       " '물류에도 RFID 적용…화물흐름 실시간 파악']"
      ]
     },
     "execution_count": 15,
     "metadata": {},
     "output_type": "execute_result"
    }
   ],
   "source": [
    "title[:5]"
   ]
  },
  {
   "cell_type": "code",
   "execution_count": 18,
   "metadata": {},
   "outputs": [
    {
     "name": "stdout",
     "output_type": "stream",
     "text": [
      "creating csv complete\n"
     ]
    }
   ],
   "source": [
    "# export to csv \n",
    "export_csv()"
   ]
  },
  {
   "cell_type": "code",
   "execution_count": null,
   "metadata": {},
   "outputs": [],
   "source": []
  }
 ],
 "metadata": {
  "kernelspec": {
   "display_name": "Python 3",
   "language": "python",
   "name": "python3"
  },
  "language_info": {
   "codemirror_mode": {
    "name": "ipython",
    "version": 3
   },
   "file_extension": ".py",
   "mimetype": "text/x-python",
   "name": "python",
   "nbconvert_exporter": "python",
   "pygments_lexer": "ipython3",
   "version": "3.6.4"
  }
 },
 "nbformat": 4,
 "nbformat_minor": 2
}
